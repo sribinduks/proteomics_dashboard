{
 "cells": [
  {
   "cell_type": "code",
   "execution_count": 3,
   "metadata": {},
   "outputs": [],
   "source": [
    "import os\n",
    "import requests\n",
    "from dotenv import load_dotenv\n",
    "load_dotenv()\n",
    "\n",
    "X_CDD_token=os.environ.get('X_CDD_token')\n",
    "image_url = 'http://158.101.124.232:3060/image?smiles='\n",
    "\n",
    "def get_smile_url(words:str):\n",
    "    if words:\n",
    "        vault_id = 5106\n",
    "        base_url = f\"https://app.collaborativedrug.com/api/v1/vaults/{vault_id}/molecules?names=\"\n",
    "        headers = {'X-CDD-token':X_CDD_token}\n",
    "        url = base_url + words\n",
    "        response = requests.request(\"Get\",url,headers=headers)\n",
    "        if response.status_code == 200:\n",
    "            response = response.json()\n",
    "            objects = response['objects']\n",
    "            smiles = objects[0]['smiles'].replace('#','%23').replace('+','%2B')\n",
    "            return image_url + smiles\n",
    "        else:\n",
    "            return None\n",
    "    else:\n",
    "        return None"
   ]
  },
  {
   "cell_type": "code",
   "execution_count": 2,
   "metadata": {},
   "outputs": [],
   "source": [
    "import os\n",
    "\n",
    "auth_emails = os.environ.get('GOOGLE_AUTH_EMAIL').split(',')"
   ]
  },
  {
   "cell_type": "code",
   "execution_count": null,
   "metadata": {},
   "outputs": [],
   "source": [
    "import dash\n",
    "from dash import dcc, html\n",
    "import plotly.graph_objs as go\n",
    "import pandas as pd\n",
    "import plotly.express as px\n",
    "# Sample data points\n",
    "list1 = [10, 15, 20, 25, 30]\n",
    "list2 = [20, 22, 24, 26, 28, 30, 32, 34]\n",
    "data = []\n",
    "for i in range(len(list1)):\n",
    "    data.append(['list1',list1[i]])\n",
    "for i in range(len(list2)):\n",
    "    data.append(['list2',list2[i]])\n",
    "df = pd.DataFrame(data, columns = ['trace', 'value'])\n",
    "\n",
    "fig = px.strip(df, x=\"trace\", y=\"value\",stripmode='overlay',color='trace')\n",
    "fig.add_trace(go.Box(y=df.query(\"trace == 'list1'\")['value'], name='list1'))\n",
    "fig.add_trace(go.Box(y=df.query(\"trace == 'list2'\")['value'], name='list2'))\n",
    "\n",
    "# Initialize the Dash app\n",
    "app = dash.Dash(__name__)\n",
    "\n",
    "app.layout = html.Div([\n",
    "    dcc.Graph(\n",
    "        id='box-plot',\n",
    "        figure=fig\n",
    "    )\n",
    "])\n",
    "\n",
    "if __name__ == '__main__':\n",
    "    app.run_server(debug=True)"
   ]
  }
 ],
 "metadata": {
  "kernelspec": {
   "display_name": "webs",
   "language": "python",
   "name": "python3"
  },
  "language_info": {
   "codemirror_mode": {
    "name": "ipython",
    "version": 3
   },
   "file_extension": ".py",
   "mimetype": "text/x-python",
   "name": "python",
   "nbconvert_exporter": "python",
   "pygments_lexer": "ipython3",
   "version": "3.11.5"
  },
  "orig_nbformat": 4
 },
 "nbformat": 4,
 "nbformat_minor": 2
}
